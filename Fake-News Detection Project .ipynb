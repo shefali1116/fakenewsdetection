{
 "cells": [
  {
   "cell_type": "code",
   "execution_count": 1,
   "id": "7e591de4",
   "metadata": {},
   "outputs": [],
   "source": [
    "# Import Libraries\n",
    "import pandas as pd\n",
    "import numpy as np"
   ]
  },
  {
   "cell_type": "code",
   "execution_count": 2,
   "id": "aa019249",
   "metadata": {
    "scrolled": true
   },
   "outputs": [
    {
     "data": {
      "text/html": [
       "<div>\n",
       "<style scoped>\n",
       "    .dataframe tbody tr th:only-of-type {\n",
       "        vertical-align: middle;\n",
       "    }\n",
       "\n",
       "    .dataframe tbody tr th {\n",
       "        vertical-align: top;\n",
       "    }\n",
       "\n",
       "    .dataframe thead th {\n",
       "        text-align: right;\n",
       "    }\n",
       "</style>\n",
       "<table border=\"1\" class=\"dataframe\">\n",
       "  <thead>\n",
       "    <tr style=\"text-align: right;\">\n",
       "      <th></th>\n",
       "      <th>Unnamed: 0</th>\n",
       "      <th>id</th>\n",
       "      <th>headline</th>\n",
       "      <th>written_by</th>\n",
       "      <th>news</th>\n",
       "      <th>label</th>\n",
       "    </tr>\n",
       "  </thead>\n",
       "  <tbody>\n",
       "    <tr>\n",
       "      <th>0</th>\n",
       "      <td>0</td>\n",
       "      <td>9653</td>\n",
       "      <td>Ethics Questions Dogged Agriculture Nominee as...</td>\n",
       "      <td>Eric Lipton and Steve Eder</td>\n",
       "      <td>WASHINGTON  —   In Sonny Perdue’s telling, Geo...</td>\n",
       "      <td>0</td>\n",
       "    </tr>\n",
       "    <tr>\n",
       "      <th>1</th>\n",
       "      <td>1</td>\n",
       "      <td>10041</td>\n",
       "      <td>U.S. Must Dig Deep to Stop Argentina’s Lionel ...</td>\n",
       "      <td>David Waldstein</td>\n",
       "      <td>HOUSTON  —   Venezuela had a plan. It was a ta...</td>\n",
       "      <td>0</td>\n",
       "    </tr>\n",
       "    <tr>\n",
       "      <th>2</th>\n",
       "      <td>2</td>\n",
       "      <td>19113</td>\n",
       "      <td>Cotton to House: ’Do Not Walk the Plank and Vo...</td>\n",
       "      <td>Pam Key</td>\n",
       "      <td>Sunday on ABC’s “This Week,” while discussing ...</td>\n",
       "      <td>0</td>\n",
       "    </tr>\n",
       "    <tr>\n",
       "      <th>3</th>\n",
       "      <td>3</td>\n",
       "      <td>6868</td>\n",
       "      <td>Paul LePage, Besieged Maine Governor, Sends Co...</td>\n",
       "      <td>Jess Bidgood</td>\n",
       "      <td>AUGUSTA, Me.  —   The beleaguered Republican g...</td>\n",
       "      <td>0</td>\n",
       "    </tr>\n",
       "    <tr>\n",
       "      <th>4</th>\n",
       "      <td>4</td>\n",
       "      <td>7596</td>\n",
       "      <td>A Digital 9/11 If Trump Wins</td>\n",
       "      <td>Finian Cunningham</td>\n",
       "      <td>Finian Cunningham has written extensively on...</td>\n",
       "      <td>1</td>\n",
       "    </tr>\n",
       "    <tr>\n",
       "      <th>...</th>\n",
       "      <td>...</td>\n",
       "      <td>...</td>\n",
       "      <td>...</td>\n",
       "      <td>...</td>\n",
       "      <td>...</td>\n",
       "      <td>...</td>\n",
       "    </tr>\n",
       "    <tr>\n",
       "      <th>20795</th>\n",
       "      <td>20795</td>\n",
       "      <td>5671</td>\n",
       "      <td>NaN</td>\n",
       "      <td>NeverSurrender</td>\n",
       "      <td>No, you'll be a dog licking of the vomit of yo...</td>\n",
       "      <td>1</td>\n",
       "    </tr>\n",
       "    <tr>\n",
       "      <th>20796</th>\n",
       "      <td>20796</td>\n",
       "      <td>14831</td>\n",
       "      <td>Albert Pike and the European Migrant Crisis</td>\n",
       "      <td>Rixon Stewart</td>\n",
       "      <td>By Rixon Stewart on November 5, 2016 Rixon Ste...</td>\n",
       "      <td>1</td>\n",
       "    </tr>\n",
       "    <tr>\n",
       "      <th>20797</th>\n",
       "      <td>20797</td>\n",
       "      <td>18142</td>\n",
       "      <td>Dakota Access Caught Infiltrating Protests to ...</td>\n",
       "      <td>Eddy Lavine</td>\n",
       "      <td>posted by Eddie You know the Dakota Access Pip...</td>\n",
       "      <td>1</td>\n",
       "    </tr>\n",
       "    <tr>\n",
       "      <th>20798</th>\n",
       "      <td>20798</td>\n",
       "      <td>12139</td>\n",
       "      <td>How to Stretch the Summer Solstice - The New Y...</td>\n",
       "      <td>Alison S. Cohn</td>\n",
       "      <td>It’s officially summer, and the Society Boutiq...</td>\n",
       "      <td>0</td>\n",
       "    </tr>\n",
       "    <tr>\n",
       "      <th>20799</th>\n",
       "      <td>20799</td>\n",
       "      <td>15660</td>\n",
       "      <td>Emory University to Pay for ’100 Percent’ of U...</td>\n",
       "      <td>Tom Ciccotta</td>\n",
       "      <td>Emory University in Atlanta, Georgia, has anno...</td>\n",
       "      <td>0</td>\n",
       "    </tr>\n",
       "  </tbody>\n",
       "</table>\n",
       "<p>20800 rows × 6 columns</p>\n",
       "</div>"
      ],
      "text/plain": [
       "       Unnamed: 0     id                                           headline  \\\n",
       "0               0   9653  Ethics Questions Dogged Agriculture Nominee as...   \n",
       "1               1  10041  U.S. Must Dig Deep to Stop Argentina’s Lionel ...   \n",
       "2               2  19113  Cotton to House: ’Do Not Walk the Plank and Vo...   \n",
       "3               3   6868  Paul LePage, Besieged Maine Governor, Sends Co...   \n",
       "4               4   7596                       A Digital 9/11 If Trump Wins   \n",
       "...           ...    ...                                                ...   \n",
       "20795       20795   5671                                                NaN   \n",
       "20796       20796  14831        Albert Pike and the European Migrant Crisis   \n",
       "20797       20797  18142  Dakota Access Caught Infiltrating Protests to ...   \n",
       "20798       20798  12139  How to Stretch the Summer Solstice - The New Y...   \n",
       "20799       20799  15660  Emory University to Pay for ’100 Percent’ of U...   \n",
       "\n",
       "                       written_by  \\\n",
       "0      Eric Lipton and Steve Eder   \n",
       "1                 David Waldstein   \n",
       "2                         Pam Key   \n",
       "3                    Jess Bidgood   \n",
       "4               Finian Cunningham   \n",
       "...                           ...   \n",
       "20795              NeverSurrender   \n",
       "20796               Rixon Stewart   \n",
       "20797                 Eddy Lavine   \n",
       "20798              Alison S. Cohn   \n",
       "20799                Tom Ciccotta   \n",
       "\n",
       "                                                    news  label  \n",
       "0      WASHINGTON  —   In Sonny Perdue’s telling, Geo...      0  \n",
       "1      HOUSTON  —   Venezuela had a plan. It was a ta...      0  \n",
       "2      Sunday on ABC’s “This Week,” while discussing ...      0  \n",
       "3      AUGUSTA, Me.  —   The beleaguered Republican g...      0  \n",
       "4        Finian Cunningham has written extensively on...      1  \n",
       "...                                                  ...    ...  \n",
       "20795  No, you'll be a dog licking of the vomit of yo...      1  \n",
       "20796  By Rixon Stewart on November 5, 2016 Rixon Ste...      1  \n",
       "20797  posted by Eddie You know the Dakota Access Pip...      1  \n",
       "20798  It’s officially summer, and the Society Boutiq...      0  \n",
       "20799  Emory University in Atlanta, Georgia, has anno...      0  \n",
       "\n",
       "[20800 rows x 6 columns]"
      ]
     },
     "execution_count": 2,
     "metadata": {},
     "output_type": "execute_result"
    }
   ],
   "source": [
    "# Read the data\n",
    "df=pd.read_csv(r\"C:\\Users\\DELL\\Downloads\\Fake-news-project\\Fake news project\\train_news.csv\")\n",
    "df"
   ]
  },
  {
   "cell_type": "code",
   "execution_count": 3,
   "id": "a759f685",
   "metadata": {},
   "outputs": [],
   "source": [
    "#dropping columns\n",
    "df=df.drop(['Unnamed: 0','id'], axis=1)\n",
    "df=df.dropna()"
   ]
  },
  {
   "cell_type": "code",
   "execution_count": 4,
   "id": "81a7112c",
   "metadata": {
    "scrolled": true
   },
   "outputs": [
    {
     "data": {
      "text/html": [
       "<div>\n",
       "<style scoped>\n",
       "    .dataframe tbody tr th:only-of-type {\n",
       "        vertical-align: middle;\n",
       "    }\n",
       "\n",
       "    .dataframe tbody tr th {\n",
       "        vertical-align: top;\n",
       "    }\n",
       "\n",
       "    .dataframe thead th {\n",
       "        text-align: right;\n",
       "    }\n",
       "</style>\n",
       "<table border=\"1\" class=\"dataframe\">\n",
       "  <thead>\n",
       "    <tr style=\"text-align: right;\">\n",
       "      <th></th>\n",
       "      <th>headline</th>\n",
       "      <th>written_by</th>\n",
       "      <th>news</th>\n",
       "      <th>label</th>\n",
       "    </tr>\n",
       "  </thead>\n",
       "  <tbody>\n",
       "    <tr>\n",
       "      <th>0</th>\n",
       "      <td>Ethics Questions Dogged Agriculture Nominee as...</td>\n",
       "      <td>Eric Lipton and Steve Eder</td>\n",
       "      <td>WASHINGTON  —   In Sonny Perdue’s telling, Geo...</td>\n",
       "      <td>0</td>\n",
       "    </tr>\n",
       "    <tr>\n",
       "      <th>1</th>\n",
       "      <td>U.S. Must Dig Deep to Stop Argentina’s Lionel ...</td>\n",
       "      <td>David Waldstein</td>\n",
       "      <td>HOUSTON  —   Venezuela had a plan. It was a ta...</td>\n",
       "      <td>0</td>\n",
       "    </tr>\n",
       "    <tr>\n",
       "      <th>2</th>\n",
       "      <td>Cotton to House: ’Do Not Walk the Plank and Vo...</td>\n",
       "      <td>Pam Key</td>\n",
       "      <td>Sunday on ABC’s “This Week,” while discussing ...</td>\n",
       "      <td>0</td>\n",
       "    </tr>\n",
       "    <tr>\n",
       "      <th>3</th>\n",
       "      <td>Paul LePage, Besieged Maine Governor, Sends Co...</td>\n",
       "      <td>Jess Bidgood</td>\n",
       "      <td>AUGUSTA, Me.  —   The beleaguered Republican g...</td>\n",
       "      <td>0</td>\n",
       "    </tr>\n",
       "    <tr>\n",
       "      <th>4</th>\n",
       "      <td>A Digital 9/11 If Trump Wins</td>\n",
       "      <td>Finian Cunningham</td>\n",
       "      <td>Finian Cunningham has written extensively on...</td>\n",
       "      <td>1</td>\n",
       "    </tr>\n",
       "  </tbody>\n",
       "</table>\n",
       "</div>"
      ],
      "text/plain": [
       "                                            headline  \\\n",
       "0  Ethics Questions Dogged Agriculture Nominee as...   \n",
       "1  U.S. Must Dig Deep to Stop Argentina’s Lionel ...   \n",
       "2  Cotton to House: ’Do Not Walk the Plank and Vo...   \n",
       "3  Paul LePage, Besieged Maine Governor, Sends Co...   \n",
       "4                       A Digital 9/11 If Trump Wins   \n",
       "\n",
       "                   written_by  \\\n",
       "0  Eric Lipton and Steve Eder   \n",
       "1             David Waldstein   \n",
       "2                     Pam Key   \n",
       "3                Jess Bidgood   \n",
       "4           Finian Cunningham   \n",
       "\n",
       "                                                news  label  \n",
       "0  WASHINGTON  —   In Sonny Perdue’s telling, Geo...      0  \n",
       "1  HOUSTON  —   Venezuela had a plan. It was a ta...      0  \n",
       "2  Sunday on ABC’s “This Week,” while discussing ...      0  \n",
       "3  AUGUSTA, Me.  —   The beleaguered Republican g...      0  \n",
       "4    Finian Cunningham has written extensively on...      1  "
      ]
     },
     "execution_count": 4,
     "metadata": {},
     "output_type": "execute_result"
    }
   ],
   "source": [
    "#Get head\n",
    "df.head()"
   ]
  },
  {
   "cell_type": "code",
   "execution_count": 5,
   "id": "e0d1d5b6",
   "metadata": {},
   "outputs": [],
   "source": [
    "# Get the labels\n",
    "X=df.iloc[:,:-1].values\n",
    "y=df.iloc[:,-1].values"
   ]
  },
  {
   "cell_type": "code",
   "execution_count": 6,
   "id": "8c99024c",
   "metadata": {},
   "outputs": [
    {
     "data": {
      "text/plain": [
       "array(['Ethics Questions Dogged Agriculture Nominee as Georgia Governor - The New York Times',\n",
       "       'Eric Lipton and Steve Eder',\n",
       "       'WASHINGTON  —   In Sonny Perdue’s telling, Georgians were growing weary of the corruption and scandals in their state when he took over as governor in 2003  —   a time when he gave his own version of a “drain the swamp” pledge. “My first goal as governor is to restore public trust in state government by changing the culture of state government,” Mr. Perdue told a leadership conference at Kennesaw State University in April 2003. “Our form of government depends on a mutual bond of trust between the people and their government. But people have become cynical about their government. ” But Mr. Perdue, a Republican who is awaiting confirmation to serve as President Trump’s agriculture secretary, became a target of frequent criticism that he was failing to honor his own ethics pledge during his eight years as governor. The criticism centers on the fact that, as Mr. Trump has, he continued to own or help run his family business ventures  —   four   companies  —   while serving as governor. Mr. Perdue is one of the last cabinet members awaiting Senate confirmation. No date has been set for his confirmation hearing a holdup in the release of paperwork accompanying his nomination by the federal Office of Government Ethics has been blamed for the delay. The office must examine Mr. Perdue’s proposal to avoid conflicts of interest while running the U. S. D. A. as the department is known, which may include selling off some of his farming assets. Before his tenure as governor ended in 2011, 13 complaints had been filed against Mr. Perdue with the State Ethics Commission, which on two occasions ruled that the governor had violated state ethics laws. The commission took the unusual step of fining Mr. Perdue while he was governor. There were numerous other questions, including some about the role of Mr. Perdue’s personal lawyer  —   also a state legislator  —   in pushing a bill through the legislature that included a special provision that gave Mr. Perdue $100, 000 in state tax relief. And, when his tenure as governor was coming to a close, Mr. Perdue met with Georgia officials who oversee the state’s ports to discuss use of a terminal for a family business, according to documents obtained by The Atlanta  . Soon after he left office, in fact, he opened a new company that specialized in exporting products through Savannah. “When you are a public official you are supposed to be acting entirely on behalf of the public and not for ” said Yasha Heidari, former senior legal counsel to the State Ethics Commission. “Looking at his record, as both an attorney and a citizen of the state, I had serious concerns. ” In a written statement, a spokeswoman for Mr. Perdue rejected that assessment, saying that the frequent criticism he faced while governor was largely politically motivated. “There hadn’t been a Republican governor in Georgia for 135 years,” the statement said. “Governor Perdue was the David who slew the Democrats’ Goliath. ” During the wait for Mr. Perdue’s confirmation hearing, some in the farming industry have come to his defense. “I don’t think you are going to find a man any more honorable than Sonny Perdue,” said Zippy Duvall, a Georgia cattle and poultry farmer who is the president of the American Farm Bureau Federation, adding that he had known Mr. Perdue for about a decade. “He is as ethical as they come. ” Born into a family of farmers, Mr. Perdue played college football as a   at the University of Georgia, and later worked briefly as a practicing veterinarian. He rose through the ranks of the state legislature and, in the late 1990s, switched his party affiliation from Democrat to Republican because, he said, the state party had lost its focus on family values. One of Mr. Perdue’s first acts after he was sworn in as governor in January 2003 was to sign an executive order establishing a new code of ethics for executive branch employees. The order, which applied to the governor himself, prohibited state employees from using their powers for “any financial or other personal benefit” and barred them from taking any gifts worth more than $25. “In carrying out their official duties and obligations, all officers and employees of state government must work solely for the public good, striving vigilantly to avoid even the appearance that their actions are motivated by private or personal interest,” the 2003 executive order said. But Mr. Perdue ended up collecting at least $25, 000 worth of benefits or gifts during his years as governor, state records show. The gifts ranged from tickets to a Nascar race and football games to flights paid for by Altria, the tobacco company, and by CSX, the railroad giant, according to a 2010 report by Citizens for Responsibility and Ethics in Washington, a liberal nonprofit group. Mr. Perdue’s spokeswoman, in the written statement, said that none of these gifts violated the ban because the “trips were for official state business and were perfectly acceptable as saving taxpayer funds. ” “The gifts were to the state,” the statement read, “not to the governor. ” The fine by the State Ethics Commission in 2005 came after the commission concluded that Mr. Perdue had failed to properly report the use of an airplane owned by one of his family’s businesses for a   trip. The commission also found that he had taken campaign contributions in amounts that exceeded state limits from several donors  —   including a political action committee run by SunTrust, the   bank. Mr. Perdue called the violations technical, and the investigation politically motivated. Teddy Lee, the executive secretary of the State Ethics Commission, was fired from his job in January 2006, and in an interview he blamed Mr. Perdue for his firing. Mr. Lee had served in the job under four governors. “This looked like a political hit to me,” Mr. Lee said. Mr. Lee’s dismissal came as Mr. Perdue was seeking   and just months before his largest scandal emerged, over a $100, 000 state tax break he received thanks to a legislative maneuver engineered by a lawmaker who was also his personal lawyer. The focus of the controversy was a piece of property in Florida that Mr. Perdue purchased in 2004. The purchase allowed him to defer paying federal capital gains taxes on a separate piece of Georgia land  —   which he had previously sold at a profit. When that transaction was completed, Mr. Perdue still owed Georgia about $100, 000 in state taxes. Then, Mr. Perdue signed a bill the following year eliminating that state tax obligation  —   as state law was changed to allow   rollover relief on capital gains, even if the new property being purchased was out of state. During deliberations on the legislation, Larry O’Neal, a member of the Georgia House of Representatives who also worked part time as a personal lawyer for Mr. Perdue, intervened to make the change in that provision retroactive. That meant it would cover Mr. Perdue’s 2004 land deal, saving the governor $100, 000, The   reported at the time. Mr. Perdue’s spokeswoman said the change in state law was not intended to benefit Mr. Perdue. “It benefited all Georgians,” the statement said. Scott Faber of the Environmental Working Group, a nonprofit organization that keeps a close watch on policies at the Agriculture Department, said he had questions about Mr. Perdue’s fitness to take over the department. “Given his record of   and conflicts of interest as governor of Georgia, it is fair to ask if he is fit to run a $    federal agency,” Mr. Faber said. But Mr. Duvall, of the American Farm Bureau Federation, believes the opposite. Mr. Duvall said that as a former farmer, Mr. Perdue is just what the nation needs to run the department. “He has worked on a farm and owned businesses that buy and sell grain domestically and internationally,” Mr. Duvall said. “It ought to be a requirement that someone who runs the U. S. D. A. knows something about farming. And Sonny certainly does. ”'],\n",
       "      dtype=object)"
      ]
     },
     "execution_count": 6,
     "metadata": {},
     "output_type": "execute_result"
    }
   ],
   "source": [
    "X[0]"
   ]
  },
  {
   "cell_type": "code",
   "execution_count": 7,
   "id": "9b31ad58",
   "metadata": {},
   "outputs": [
    {
     "data": {
      "text/plain": [
       "0"
      ]
     },
     "execution_count": 7,
     "metadata": {},
     "output_type": "execute_result"
    }
   ],
   "source": [
    "y[0]"
   ]
  },
  {
   "cell_type": "code",
   "execution_count": 8,
   "id": "979399e7",
   "metadata": {},
   "outputs": [],
   "source": [
    "# Initialize a CountVectorizer\n",
    "\n",
    "# fit and transform train set, transform test set\n",
    "\n",
    "from sklearn.feature_extraction.text import CountVectorizer\n",
    "cv=CountVectorizer(max_features=5000)\n",
    "mat_body=cv.fit_transform(X[:,1]).todense()"
   ]
  },
  {
   "cell_type": "code",
   "execution_count": 9,
   "id": "15711821",
   "metadata": {},
   "outputs": [
    {
     "data": {
      "text/plain": [
       "matrix([[0, 0, 0, ..., 0, 0, 0],\n",
       "        [0, 0, 0, ..., 0, 0, 0],\n",
       "        [0, 0, 0, ..., 0, 0, 0],\n",
       "        ...,\n",
       "        [0, 0, 0, ..., 0, 0, 0],\n",
       "        [0, 0, 0, ..., 0, 0, 0],\n",
       "        [0, 0, 0, ..., 0, 0, 0]], dtype=int64)"
      ]
     },
     "execution_count": 9,
     "metadata": {},
     "output_type": "execute_result"
    }
   ],
   "source": [
    "mat_body"
   ]
  },
  {
   "cell_type": "code",
   "execution_count": 10,
   "id": "353a83ff",
   "metadata": {},
   "outputs": [],
   "source": [
    "cv_head=CountVectorizer(max_features=5000)\n",
    "mat_head=cv_head.fit_transform(X[:,0]).todense()"
   ]
  },
  {
   "cell_type": "code",
   "execution_count": 11,
   "id": "e97a455e",
   "metadata": {},
   "outputs": [
    {
     "data": {
      "text/plain": [
       "matrix([[0, 0, 0, ..., 0, 0, 0],\n",
       "        [0, 0, 0, ..., 0, 0, 0],\n",
       "        [0, 0, 0, ..., 0, 0, 0],\n",
       "        ...,\n",
       "        [0, 0, 0, ..., 0, 0, 0],\n",
       "        [0, 0, 0, ..., 0, 0, 0],\n",
       "        [0, 0, 0, ..., 0, 0, 0]], dtype=int64)"
      ]
     },
     "execution_count": 11,
     "metadata": {},
     "output_type": "execute_result"
    }
   ],
   "source": [
    "mat_head"
   ]
  },
  {
   "cell_type": "code",
   "execution_count": 12,
   "id": "96408302",
   "metadata": {},
   "outputs": [],
   "source": [
    "X_mat=np.hstack((mat_head,mat_body))"
   ]
  },
  {
   "cell_type": "code",
   "execution_count": 13,
   "id": "57b948a8",
   "metadata": {},
   "outputs": [],
   "source": [
    "# split the dataset\n",
    "\n",
    "from sklearn.model_selection import train_test_split\n",
    "X_train,X_test,y_train,y_test=train_test_split(X_mat,y,test_size=0.2,random_state=0)"
   ]
  },
  {
   "cell_type": "code",
   "execution_count": 15,
   "id": "0e146ce7",
   "metadata": {},
   "outputs": [],
   "source": [
    "# Initialize a DecisionTreeClassifier\n",
    "\n",
    "# Predict on the test set and calculate the accuracy\n",
    "\n",
    "from sklearn.tree import DecisionTreeClassifier\n",
    "dtc=DecisionTreeClassifier(criterion='entropy')\n",
    "dtc.fit(X_train,y_train)\n",
    "y_pred=dtc.predict(X_test)"
   ]
  },
  {
   "cell_type": "code",
   "execution_count": 16,
   "id": "da81ca4d",
   "metadata": {},
   "outputs": [
    {
     "data": {
      "text/plain": [
       "array([[2064,   14],\n",
       "       [  13, 1566]], dtype=int64)"
      ]
     },
     "execution_count": 16,
     "metadata": {},
     "output_type": "execute_result"
    }
   ],
   "source": [
    "# Build confusion matrix\n",
    "\n",
    "from sklearn.metrics import confusion_matrix\n",
    "confusion_matrix(y_test,y_pred)"
   ]
  },
  {
   "cell_type": "code",
   "execution_count": 17,
   "id": "ca3c8083",
   "metadata": {},
   "outputs": [
    {
     "data": {
      "text/plain": [
       "0.992616899097621"
      ]
     },
     "execution_count": 17,
     "metadata": {},
     "output_type": "execute_result"
    }
   ],
   "source": [
    "(2064+1566)/(2064+1566+14+13)"
   ]
  }
 ],
 "metadata": {
  "kernelspec": {
   "display_name": "Python 3",
   "language": "python",
   "name": "python3"
  },
  "language_info": {
   "codemirror_mode": {
    "name": "ipython",
    "version": 3
   },
   "file_extension": ".py",
   "mimetype": "text/x-python",
   "name": "python",
   "nbconvert_exporter": "python",
   "pygments_lexer": "ipython3",
   "version": "3.8.8"
  }
 },
 "nbformat": 4,
 "nbformat_minor": 5
}
